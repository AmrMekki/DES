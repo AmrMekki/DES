{
 "cells": [
  {
   "cell_type": "markdown",
   "metadata": {},
   "source": [
    "    1- Key 64 or 56 becomes KeyL and KeyR 28 each\n",
    "    2- circular shift depending on round\n",
    "    3- take circulated for round, take uncirculated for next round\n",
    "\n",
    "\n"
   ]
  },
  {
   "cell_type": "code",
   "execution_count": 46,
   "metadata": {},
   "outputs": [],
   "source": [
    "import binascii\n",
    "import numpy as np\n",
    "import keyTables, Sbox, textTables, additionalFunction, functions\n",
    "\n",
    "roundNumber = 1\n",
    "C = [] #KeyLeft\n",
    "D = [] #KeyRight\n",
    "L = [] #PlainLeft\n",
    "R = [] #PlainRight\n",
    "roundKey =[]\n"
   ]
  },
  {
   "cell_type": "code",
   "execution_count": 4,
   "metadata": {},
   "outputs": [],
   "source": [
    "#a\n",
    "initialPermutation = [58, 50, 42, 34, 26, 18, 10, 2,\n",
    "                      60, 52, 44, 36, 28, 20, 12, 4,\n",
    "                      62, 54, 46, 38, 30, 22, 14, 6,\n",
    "                      64, 56, 48, 40, 32, 24, 16, 8,\n",
    "                      57, 49, 41, 33, 25, 17, 9, 1,\n",
    "                      59, 51, 43, 35, 27, 19, 11, 3,\n",
    "                      61, 53, 45, 37, 29, 21, 13, 5,\n",
    "                      63, 55, 47, 39, 31, 23, 15, 7]\n",
    "#b\n",
    "inverseInitialPermutation = [40, 8, 48, 16, 56, 24, 64, 32,\n",
    "                            39, 7, 47, 15, 55, 23, 63, 31,\n",
    "                            38, 6, 46, 14, 54, 22, 62, 30,\n",
    "                            37, 5, 45, 13, 53, 21, 61, 29,\n",
    "                            36, 4, 44, 12, 52, 20, 60, 28,\n",
    "                            35, 3, 43, 11, 51, 19, 59, 27,\n",
    "                            34, 2, 42, 10, 50, 18, 58, 26,\n",
    "                            33, 1, 41, 9, 49, 17, 57, 25]\n",
    "#c\n",
    "expansionPermutation     = [32, 1, 2, 3, 4, 5,\n",
    "                            4, 5, 6, 7, 8, 9,\n",
    "                            8, 9, 10, 11, 12, 13,\n",
    "                            12, 13, 14, 15, 16, 17,\n",
    "                            16, 17, 18, 19, 20, 21,\n",
    "                            20, 21, 22, 23, 24, 25,\n",
    "                            24, 25, 26, 27, 28, 29,\n",
    "                            28, 29, 30, 31, 32, 1]\n",
    "#d\n",
    "permutationFunction = [16, 7, 20, 21, 29, 12, 28, 17,\n",
    "                        1, 15, 23, 26, 5, 18, 31, 10,\n",
    "                        2, 8, 24, 14, 32, 27, 3, 9,\n",
    "                        19, 13, 30, 6, 22, 11, 4, 25]\n",
    "\n",
    "#Key\n",
    "permutationChoice1 = [57, 49, 41, 33, 25, 17, 9,\n",
    "                    1, 58, 50, 42, 34, 26, 18,\n",
    "                    10, 2, 59, 51, 43, 35, 27,\n",
    "                    19, 11, 3, 60, 52, 44, 36,\n",
    "                    63, 55, 47, 39, 31, 23, 15,\n",
    "                    7, 62, 54, 46, 38, 30, 22,\n",
    "                    14, 6, 61, 53, 45, 37, 29,\n",
    "                    21, 13, 5, 28, 20, 12, 4]\n",
    "                    \n",
    "permutationChoice2 = [14, 17, 11, 24, 1, 5, 3, 28,\n",
    "                    15, 6, 21, 10, 23, 19, 12, 4,\n",
    "                    26, 8, 16, 7, 27, 20, 13, 2,\n",
    "                    41, 52, 31, 37, 47, 55, 30, 40,\n",
    "                    51, 45, 33, 48, 44, 49, 39, 56,\n",
    "                    34, 53, 46, 42, 50, 36, 29, 32]\n",
    "\n",
    "RoundShift= [1,1,2,2,2,2,2,2,1,2,2,2,2,2,2,1]"
   ]
  },
  {
   "cell_type": "code",
   "execution_count": 5,
   "metadata": {},
   "outputs": [
    {
     "name": "stdout",
     "output_type": "stream",
     "text": [
      "[0, 0, 0, 0, 0, 0, 0, 1, 0, 0, 1, 0, 0, 0, 1, 1, 0, 1, 0, 0, 0, 1, 0, 1, 0, 1, 1, 0, 0, 1, 1, 1, 1, 0, 0, 0, 1, 0, 0, 1, 1, 0, 1, 0, 1, 0, 1, 1, 1, 1, 0, 0, 1, 1, 0, 1, 1, 1, 1, 0, 1, 1, 1, 1]\n",
      "[0, 0, 0, 0, 0, 0, 0, 1, 0, 0, 1, 0, 0, 0, 1, 1, 0, 1, 0, 0, 0, 1, 0, 1, 0, 1, 1, 0, 0, 1, 1, 1, 1, 0, 0, 0, 1, 0, 0, 1, 1, 0, 1, 0, 1, 0, 1, 1, 1, 1, 0, 0, 1, 1, 0, 1, 1, 1, 1, 0, 1, 1, 1, 1]\n"
     ]
    }
   ],
   "source": [
    "K= [0,0,0,0,0,0,0,1,  0,0,1,0,0,0,1,1,  0,1,0,0,0,1,0,1,  0,1,1,0,0,1,1,1,  1,0,0,0,1,0,0,1,  1,0,1,0,1,0,1,1,  1,1,0,0,1,1,0,1,  1,1,1,0,1,1,1,1]\n",
    "plainText = [0,0,0,0,0,0,0,1,  0,0,1,0,0,0,1,1,  0,1,0,0,0,1,0,1,  0,1,1,0,0,1,1,1,  1,0,0,0,1,0,0,1,  1,0,1,0,1,0,1,1,  1,1,0,0,1,1,0,1,  1,1,1,0,1,1,1,1]\n",
    "print(K)\n",
    "print(plainText)"
   ]
  },
  {
   "cell_type": "code",
   "execution_count": 43,
   "metadata": {},
   "outputs": [],
   "source": [
    "def PC(Key, pcNumber):\n",
    "    permutationChoice = []\n",
    "    if(pcNumber == 1):\n",
    "        permutationChoice = permutationChoice1\n",
    "    else:\n",
    "        permutationChoice = permutationChoice2\n",
    "\n",
    "\n",
    "    arr = []\n",
    "    for i in range(len(permutationChoice)):\n",
    "       arr.append(Key[permutationChoice[i] -1])\n",
    "    # for i in range(0, len(arr),8):\n",
    "    #     print(arr[i],arr[i+1],arr[i+2],arr[i+3],arr[i+4],arr[i+5],arr[i+6],arr[i+7])\n",
    "    return arr\n",
    "\n",
    "def IP(Plaintext):\n",
    "    \n",
    "    arr = []\n",
    "    for i in range(len(initialPermutation)):\n",
    "       arr.append(Plaintext[initialPermutation[i] -1])\n",
    "    for i in range(0, len(arr),8):\n",
    "        print(arr[i],arr[i+1],arr[i+2],arr[i+3],arr[i+4],arr[i+5],arr[i+6],arr[i+7])\n",
    "    return arr"
   ]
  },
  {
   "cell_type": "code",
   "execution_count": 39,
   "metadata": {},
   "outputs": [],
   "source": [
    "Key = PC(K,1)\n",
    "C = Key[:28]\n",
    "D = Key[28:]\n",
    "# print(C)\n",
    "# print(D)"
   ]
  },
  {
   "cell_type": "code",
   "execution_count": 35,
   "metadata": {},
   "outputs": [],
   "source": [
    "def roundKeyFunc():\n",
    "    roundKey = []\n",
    "    for i in range(RoundShift[roundNumber  -1]):\n",
    "        C.append(C.pop(0)) #Circular Shift Left of Left Key\n",
    "        D.append(D.pop(0)) #Circular Shift Left of Right Key\n",
    "    for i in range(len(C)):\n",
    "        roundKey.append(C[i])\n",
    "    for i in range(len(D)):\n",
    "        roundKey.append(D[i])\n",
    "\n",
    "    roundKey = PC(roundKey,2)\n",
    "    return roundKey  \n",
    "    \n",
    "    "
   ]
  },
  {
   "cell_type": "code",
   "execution_count": 48,
   "metadata": {},
   "outputs": [
    {
     "name": "stdout",
     "output_type": "stream",
     "text": [
      "1 1 0 0 1 1 0 0\n",
      "0 0 0 0 0 0 0 0\n",
      "1 1 0 0 1 1 0 0\n",
      "1 1 1 1 1 1 1 1\n",
      "1 1 1 1 0 0 0 0\n",
      "1 0 1 0 1 0 1 0\n",
      "1 1 1 1 0 0 0 0\n",
      "1 0 1 0 1 0 1 0\n",
      "[1, 1, 0, 0, 1, 1, 0, 0, 0, 0, 0, 0, 0, 0, 0, 0, 1, 1, 0, 0, 1, 1, 0, 0, 1, 1, 1, 1, 1, 1, 1, 1]\n",
      "[1, 1, 1, 1, 0, 0, 0, 0, 1, 0, 1, 0, 1, 0, 1, 0, 1, 1, 1, 1, 0, 0, 0, 0, 1, 0, 1, 0, 1, 0, 1, 0]\n"
     ]
    }
   ],
   "source": [
    "Initial = IP(plainText)\n",
    "L=Initial[:32]\n",
    "R=Initial[32:]\n",
    "print(L)\n",
    "print(R)"
   ]
  },
  {
   "cell_type": "code",
   "execution_count": 40,
   "metadata": {},
   "outputs": [],
   "source": [
    "roundKey = roundKeyFunc() #gets key for round"
   ]
  },
  {
   "cell_type": "code",
   "execution_count": 42,
   "metadata": {},
   "outputs": [
    {
     "name": "stdout",
     "output_type": "stream",
     "text": [
      "[0, 0, 0, 0, 1, 0, 1, 1, 0, 0, 0, 0, 0, 0, 1, 0, 0, 1, 1, 0, 0, 1, 1, 1, 1, 0, 0, 1, 1, 0, 1, 1, 0, 1, 0, 0, 1, 0, 0, 1, 1, 0, 1, 0, 0, 1, 0, 1]\n"
     ]
    }
   ],
   "source": [
    "print(roundKey)"
   ]
  },
  {
   "cell_type": "code",
   "execution_count": 112,
   "metadata": {},
   "outputs": [],
   "source": [
    "s = 'Hello, World!'\n",
    "b = string2bits(s)\n",
    "s2 = bits2string(b)"
   ]
  },
  {
   "cell_type": "code",
   "execution_count": 113,
   "metadata": {},
   "outputs": [
    {
     "data": {
      "text/plain": [
       "104"
      ]
     },
     "execution_count": 113,
     "metadata": {},
     "output_type": "execute_result"
    }
   ],
   "source": [
    "a = listToString(b)\n",
    "x = a.replace(\" \", \"\")\n",
    "len(x)\n"
   ]
  },
  {
   "cell_type": "code",
   "execution_count": 114,
   "metadata": {},
   "outputs": [
    {
     "name": "stdout",
     "output_type": "stream",
     "text": [
      "String:\n",
      "Hello, World!\n",
      "\n",
      "List of Bits:\n",
      "01001000\n",
      "01100101\n",
      "01101100\n",
      "01101100\n",
      "01101111\n",
      "00101100\n",
      "00100000\n",
      "01010111\n",
      "01101111\n",
      "01110010\n",
      "01101100\n",
      "01100100\n",
      "00100001\n",
      "\n",
      "String:\n",
      "Hello, World!\n"
     ]
    }
   ],
   "source": [
    "\n",
    "\n",
    "print('String:')\n",
    "print(s)\n",
    "\n",
    "print('\\nList of Bits:')\n",
    "for x in b:\n",
    "    print (x)\n",
    "\n",
    "print ('\\nString:')\n",
    "print (s2)"
   ]
  }
 ],
 "metadata": {
  "interpreter": {
   "hash": "847eb00be134a70790d40903388927ff584ec0e621cd5e12b3f023f70308bb0d"
  },
  "kernelspec": {
   "display_name": "Python 3.9.10 64-bit (windows store)",
   "language": "python",
   "name": "python3"
  },
  "language_info": {
   "codemirror_mode": {
    "name": "ipython",
    "version": 3
   },
   "file_extension": ".py",
   "mimetype": "text/x-python",
   "name": "python",
   "nbconvert_exporter": "python",
   "pygments_lexer": "ipython3",
   "version": "3.9.12"
  },
  "orig_nbformat": 4
 },
 "nbformat": 4,
 "nbformat_minor": 2
}
